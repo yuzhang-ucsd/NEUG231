{
 "cells": [
  {
   "cell_type": "markdown",
   "metadata": {},
   "source": [
    "## Information Theory"
   ]
  },
  {
   "cell_type": "code",
   "execution_count": 1,
   "metadata": {},
   "outputs": [],
   "source": [
    "import numpy as np\n",
    "import matplotlib.pyplot as plt"
   ]
  },
  {
   "cell_type": "code",
   "execution_count": 4,
   "metadata": {},
   "outputs": [
    {
     "data": {
      "text/plain": [
       "3.0"
      ]
     },
     "execution_count": 4,
     "metadata": {},
     "output_type": "execute_result"
    }
   ],
   "source": [
    "# entropy - uncertainty\n",
    "# max when each outcomes are equally likely\n",
    "# gets smaller when outcomes are biased\n",
    "\n",
    "# how much can you learn by measuring... log2\n",
    "\n",
    "# how many bits of uncertainty when there are 2 possible outcomes\n",
    "np.log2(2)\n",
    "# 8 possible outcomes\n",
    "np.log2(8)"
   ]
  },
  {
   "cell_type": "code",
   "execution_count": 5,
   "metadata": {},
   "outputs": [
    {
     "data": {
      "text/plain": [
       "4.0"
      ]
     },
     "execution_count": 5,
     "metadata": {},
     "output_type": "execute_result"
    }
   ],
   "source": [
    "n = 16\n",
    "np.log2(1/n) # same as log2(1) - log2(n)\n",
    "\n",
    "-np.log2(1/n) # to bring it positive again"
   ]
  },
  {
   "cell_type": "code",
   "execution_count": 6,
   "metadata": {},
   "outputs": [
    {
     "name": "stdout",
     "output_type": "stream",
     "text": [
      "4.0\n",
      "4.0\n"
     ]
    }
   ],
   "source": [
    "n = 16\n",
    "\n",
    "H = 0\n",
    "for i in np.arange(n):\n",
    "    H += -((1/n) * np.log2(1/n))\n",
    "print(H)\n",
    "\n",
    "H = 0\n",
    "for i in np.arange(n):\n",
    "    H += -np.log2(1/n)\n",
    "print(H/n)\n",
    "\n",
    "# average entropy across all outcomes (so we need to normalize it by n) \n",
    "# this work for non-uniform distributions, when each outcome has different weights"
   ]
  },
  {
   "cell_type": "code",
   "execution_count": 8,
   "metadata": {},
   "outputs": [
    {
     "name": "stdout",
     "output_type": "stream",
     "text": [
      "3.8279550259738846\n"
     ]
    },
    {
     "data": {
      "image/png": "[encoded data removed]",
      "text/plain": [
       "<Figure size 432x288 with 1 Axes>"
      ]
     },
     "metadata": {
      "needs_background": "light"
     },
     "output_type": "display_data"
    }
   ],
   "source": [
    "np.random.seed(0)\n",
    "\n",
    "n=16\n",
    "px = np.random.rand(n)\n",
    "px /= np.sum(px)\n",
    "\n",
    "# element-wise calculation w/o loop\n",
    "H = -np.sum(px * np.log2(px))\n",
    "plt.plot(px)\n",
    "print(H)"
   ]
  },
  {
   "cell_type": "markdown",
   "metadata": {},
   "source": [
    "## Mutual Information (MI)\n",
    "* how much you learn about 1 variable from another\n",
    "(not correlation)\n",
    "* (total entropy of X) - (entropy of X given that we know Y)\n",
    "* MI = H(X) - H(X|Y)"
   ]
  },
  {
   "cell_type": "code",
   "execution_count": 9,
   "metadata": {},
   "outputs": [
    {
     "name": "stdout",
     "output_type": "stream",
     "text": [
      "[1. 1. 1. 1. 0. 1. 0. 1. 1. 0.]\n"
     ]
    }
   ],
   "source": [
    "np.random.seed(0)\n",
    "N = 1000\n",
    "x = np.round(np.random.rand(N))\n",
    "y = np.round(np.random.rand(N))\n",
    "# a bunch of 0 and 1\n",
    "print(x[0:10])"
   ]
  },
  {
   "cell_type": "code",
   "execution_count": 20,
   "metadata": {},
   "outputs": [],
   "source": [
    "# introduce dependence (overlap/shared values)\n",
    "p = .95 \n",
    "ind = int(p*N)\n",
    "y[:ind] = x[:ind] # make the first 850 values the same"
   ]
  },
  {
   "cell_type": "code",
   "execution_count": 21,
   "metadata": {},
   "outputs": [
    {
     "name": "stdout",
     "output_type": "stream",
     "text": [
      "[0.483 0.517]\n",
      "0.9991659615315873\n"
     ]
    }
   ],
   "source": [
    "# probability of each possible outcome of x (px) - each poss outcome\n",
    "px = np.zeros(2)\n",
    "px[0] = np.sum(x)/N # prob of getting 0\n",
    "px[1] = 1-px[0] # prob of getting 1\n",
    "print(px)\n",
    "Hx = -np.sum(px*np.log2(px))\n",
    "print(Hx)\n",
    "# if .5 and .5 then Hx=1"
   ]
  },
  {
   "cell_type": "code",
   "execution_count": 22,
   "metadata": {},
   "outputs": [
    {
     "name": "stdout",
     "output_type": "stream",
     "text": [
      "0.8149294036605923\n"
     ]
    }
   ],
   "source": [
    "# possible values of y\n",
    "Hxy = 0\n",
    "for i in np.arange(2):\n",
    "    py = np.sum(y==i)/N # tot poss of y==0 in the 1st loop, and y==1 in the 2nd loop\n",
    "    tmp = 0\n",
    "    for j in np.arange(2):        \n",
    "        px_y = np.sum((x==j)&(y==i))/np.sum(y==i) # poss of x==0 given y==0 in the 1st loop\n",
    "        tmp+= -(px_y * np.log2(px_y))\n",
    "        \n",
    "    Hxy += (py*tmp)\n",
    "    \n",
    "MI = Hx - Hxy\n",
    "print(MI)"
   ]
  },
  {
   "cell_type": "markdown",
   "metadata": {},
   "source": [
    "## sklearn way"
   ]
  },
  {
   "cell_type": "code",
   "execution_count": 25,
   "metadata": {},
   "outputs": [
    {
     "name": "stdout",
     "output_type": "stream",
     "text": [
      "0.5648660185027373\n",
      "0.8149294036605925\n"
     ]
    }
   ],
   "source": [
    "from sklearn.metrics import mutual_info_score\n",
    "MI = mutual_info_score(x,y)\n",
    "print(MI)\n",
    "# this uses natural log instead of log2 that gives bits\n",
    "print(MI* np.log2(np.e))"
   ]
  },
  {
   "cell_type": "code",
   "execution_count": 53,
   "metadata": {},
   "outputs": [
    {
     "data": {
      "image/png": "[encoded data removed]",
      "text/plain": [
       "<Figure size 432x288 with 1 Axes>"
      ]
     },
     "metadata": {
      "needs_background": "light"
     },
     "output_type": "display_data"
    }
   ],
   "source": [
    "# 1 discrete and 1 continuous data set\n",
    "np.random.seed(0)\n",
    "N=10000\n",
    "num_conds = 4\n",
    "conds = np.repeat(np.arange(4),N/num_conds)\n",
    "\n",
    "# continuous data\n",
    "cond_means=[0,1,2,3]\n",
    "cond_stds = [1,1,1,1]\n",
    "resp = [] # response\n",
    "for i in np.arange(num_conds):\n",
    "    resp = np.hstack(( resp , ((np.random.randn(int(N/num_conds)) * cond_stds[i]) + cond_means[i]) ))\n",
    "plt.plot(resp)\n",
    "plt.show()"
   ]
  },
  {
   "cell_type": "code",
   "execution_count": 54,
   "metadata": {},
   "outputs": [
    {
     "data": {
      "text/plain": [
       "array([ 1.76405235,  0.40015721,  0.97873798,  2.2408932 ,  1.86755799,\n",
       "       -0.97727788,  0.95008842, -0.15135721, -0.10321885,  0.4105985 ])"
      ]
     },
     "execution_count": 54,
     "metadata": {},
     "output_type": "execute_result"
    }
   ],
   "source": [
    "resp[:10]"
   ]
  },
  {
   "cell_type": "code",
   "execution_count": 55,
   "metadata": {},
   "outputs": [
    {
     "name": "stdout",
     "output_type": "stream",
     "text": [
      "[  12   20   63  178  337  583  759  909 1059 1076 1141 1043  927  764\n",
      "  535  322  164   73   30    5]\n",
      "[-3.11685659 -2.65626479 -2.19567298 -1.73508118 -1.27448937 -0.81389757\n",
      " -0.35330576  0.10728604  0.56787785  1.02846965  1.48906146  1.94965327\n",
      "  2.41024507  2.87083688  3.33142868  3.79202049  4.25261229  4.7132041\n",
      "  5.1737959   5.63438771  6.09497951]\n"
     ]
    }
   ],
   "source": [
    "# chop the continuous signals into 20 bins\n",
    "nbins =20\n",
    "b, edges = np.histogram(resp,bins = nbins)\n",
    "print(b)\n",
    "print(edges)\n"
   ]
  },
  {
   "cell_type": "code",
   "execution_count": 56,
   "metadata": {},
   "outputs": [
    {
     "name": "stdout",
     "output_type": "stream",
     "text": [
      "[11  8  9 12 11  5  9  7  7  8]\n",
      "[ 1.76405235  0.40015721  0.97873798  2.2408932   1.86755799 -0.97727788\n",
      "  0.95008842 -0.15135721 -0.10321885  0.4105985 ]\n"
     ]
    }
   ],
   "source": [
    "# assign each value to one of the bins\n",
    "bin_y = np.digitize(resp,edges)\n",
    "\n",
    "print(bin_y[:10]) # which bin\n",
    "print(resp[:10]) # which original response value"
   ]
  },
  {
   "cell_type": "code",
   "execution_count": 57,
   "metadata": {},
   "outputs": [
    {
     "name": "stdout",
     "output_type": "stream",
     "text": [
      "0.5775473445340966\n"
     ]
    }
   ],
   "source": [
    "MI = mutual_info_score(conds,bin_y) * np.log2(np.e)\n",
    "print(MI)"
   ]
  },
  {
   "cell_type": "markdown",
   "metadata": {},
   "source": [
    "### With increased separation"
   ]
  },
  {
   "cell_type": "code",
   "execution_count": 52,
   "metadata": {},
   "outputs": [
    {
     "data": {
      "image/png": "[encoded data removed]",
      "text/plain": [
       "<Figure size 432x288 with 1 Axes>"
      ]
     },
     "metadata": {
      "needs_background": "light"
     },
     "output_type": "display_data"
    },
    {
     "name": "stdout",
     "output_type": "stream",
     "text": [
      "1.6256584061617003\n"
     ]
    }
   ],
   "source": [
    "np.random.seed(0)\n",
    "N=10000\n",
    "num_conds = 4\n",
    "conds = np.repeat(np.arange(4),N/num_conds)\n",
    "\n",
    "cond_means=[0,3,6,9]\n",
    "cond_stds = [1,1,1,1]\n",
    "resp = [] # response\n",
    "for i in np.arange(num_conds):\n",
    "    resp = np.hstack(( resp , ((np.random.randn(int(N/num_conds)) * cond_stds[i]) + cond_means[i]) ))\n",
    "plt.plot(resp)\n",
    "plt.show()\n",
    "nbins =20\n",
    "b, edges = np.histogram(resp,bins = nbins)\n",
    "bin_y = np.digitize(resp,edges)\n",
    "MI = mutual_info_score(conds,bin_y) * np.log2(np.e)\n",
    "print(MI)"
   ]
  },
  {
   "cell_type": "markdown",
   "metadata": {},
   "source": [
    "### Complete seperation MI  == np.log2(4)"
   ]
  },
  {
   "cell_type": "code",
   "execution_count": 60,
   "metadata": {},
   "outputs": [
    {
     "data": {
      "image/png": "[encoded data removed]",
      "text/plain": [
       "<Figure size 432x288 with 1 Axes>"
      ]
     },
     "metadata": {
      "needs_background": "light"
     },
     "output_type": "display_data"
    },
    {
     "name": "stdout",
     "output_type": "stream",
     "text": [
      "2.0000000000000013\n"
     ]
    }
   ],
   "source": [
    "np.random.seed(0)\n",
    "N=10000\n",
    "num_conds = 4\n",
    "conds = np.repeat(np.arange(4),N/num_conds)\n",
    "\n",
    "cond_means=[0,20,30,50]\n",
    "cond_stds = [1,1,1,1]\n",
    "resp = [] # response\n",
    "for i in np.arange(num_conds):\n",
    "    resp = np.hstack(( resp , ((np.random.randn(int(N/num_conds)) * cond_stds[i]) + cond_means[i]) ))\n",
    "plt.plot(resp)\n",
    "plt.show()\n",
    "nbins =20\n",
    "b, edges = np.histogram(resp,bins = nbins)\n",
    "bin_y = np.digitize(resp,edges)\n",
    "MI = mutual_info_score(conds,bin_y) * np.log2(np.e)\n",
    "print(MI)"
   ]
  },
  {
   "cell_type": "markdown",
   "metadata": {},
   "source": [
    "## Normalized MI"
   ]
  },
  {
   "cell_type": "code",
   "execution_count": 62,
   "metadata": {},
   "outputs": [
    {
     "name": "stdout",
     "output_type": "stream",
     "text": [
      "1.0000000000000007\n"
     ]
    }
   ],
   "source": [
    "# normalized by the theoretical maximum\n",
    "NMI = MI/np.log2(4)\n",
    "print(NMI)"
   ]
  },
  {
   "cell_type": "code",
   "execution_count": null,
   "metadata": {},
   "outputs": [],
   "source": []
  }
 ],
 "metadata": {
  "kernelspec": {
   "display_name": "Python 3",
   "language": "python",
   "name": "python3"
  },
  "language_info": {
   "codemirror_mode": {
    "name": "ipython",
    "version": 3
   },
   "file_extension": ".py",
   "mimetype": "text/x-python",
   "name": "python",
   "nbconvert_exporter": "python",
   "pygments_lexer": "ipython3",
   "version": "3.7.4"
  }
 },
 "nbformat": 4,
 "nbformat_minor": 4
}
