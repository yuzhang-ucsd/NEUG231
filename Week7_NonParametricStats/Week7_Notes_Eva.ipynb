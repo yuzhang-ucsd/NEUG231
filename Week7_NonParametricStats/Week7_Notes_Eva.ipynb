{
 "cells": [
  {
   "cell_type": "code",
   "execution_count": 1,
   "metadata": {},
   "outputs": [],
   "source": [
    "import numpy as np\n",
    "from scipy import stats\n",
    "import matplotlib.pyplot as plt"
   ]
  },
  {
   "cell_type": "markdown",
   "metadata": {},
   "source": [
    "## Parametric T-test"
   ]
  },
  {
   "cell_type": "code",
   "execution_count": 18,
   "metadata": {},
   "outputs": [
    {
     "data": {
      "image/png": "[encoded data removed]",
      "text/plain": [
       "<Figure size 432x288 with 1 Axes>"
      ]
     },
     "metadata": {
      "needs_background": "light"
     },
     "output_type": "display_data"
    },
    {
     "name": "stdout",
     "output_type": "stream",
     "text": [
      "2.030322987079577\n",
      "0.04500575023448435\n"
     ]
    }
   ],
   "source": [
    "np.random.seed(0)\n",
    "N =100\n",
    "cond_mu = 1.3,1\n",
    "cond_std = 1,1\n",
    "\n",
    "d1 = (np.random.randn(N) * cond_std[0]) + cond_mu[0]\n",
    "d2 = (np.random.randn(N) * cond_std[1]) + cond_mu[1]\n",
    "\n",
    "plt.hist(d1,color='r',alpha=.5)\n",
    "plt.hist(d2,color='b',alpha=.25)\n",
    "plt.xlabel('Data Values')\n",
    "plt.ylabel('Count')\n",
    "plt.show()\n",
    "\n",
    "\n",
    "# take the differences between 2 samples\n",
    "t_stats = stats.ttest_1samp(d1-d2,0)\n",
    "\n",
    "parametric_t = t_stats.statistic\n",
    "parametric_p = t_stats.pvalue\n",
    "print(parametric_t)\n",
    "print(parametric_p)\n",
    "\n",
    "# repeated, related sample\n",
    "# t_stats = stats.ttest_rel(d1,d2)"
   ]
  },
  {
   "cell_type": "code",
   "execution_count": 31,
   "metadata": {},
   "outputs": [
    {
     "data": {
      "image/png": "[encoded data removed]",
      "text/plain": [
       "<Figure size 432x288 with 1 Axes>"
      ]
     },
     "metadata": {
      "needs_background": "light"
     },
     "output_type": "display_data"
    },
    {
     "name": "stdout",
     "output_type": "stream",
     "text": [
      "0.04400000000000004\n"
     ]
    }
   ],
   "source": [
    "np.random.seed(0)\n",
    "\n",
    "# randomization test\n",
    "num_rands = 1000\n",
    "\n",
    "# this will store the empirical distribution of t-values\n",
    "null_t = np.zeros(num_rands)\n",
    "\n",
    "for i in np.arange(num_rands):\n",
    "    \n",
    "    # this is a quick way equivalent to assigning exsisting variabels to condition 1 and 2\n",
    "    rand_data = np.sign(np.random.rand(N) - .5) * (d1-d2)\n",
    "    # np.sign: 1 if positive, -1 if negative\n",
    "    \n",
    "    null_t[i] = stats.ttest_1samp(rand_data,0)[0]\n",
    "    \n",
    "plt.hist(null_t,color='r',bins = 30,alpha=.25)\n",
    "plt.xlabel('t_value')\n",
    "plt.ylabel('count')\n",
    "plt.show()\n",
    "\n",
    "# compute the p-value\n",
    "rand_p = 1-(np.sum(parametric_t > np.abs(null_t)))/num_rands\n",
    "print(rand_p)"
   ]
  },
  {
   "cell_type": "code",
   "execution_count": 39,
   "metadata": {},
   "outputs": [
    {
     "name": "stdout",
     "output_type": "stream",
     "text": [
      "0.81642051634484 0.0021696288730787875\n"
     ]
    },
    {
     "data": {
      "image/png": "[encoded data removed]",
      "text/plain": [
       "<Figure size 432x288 with 1 Axes>"
      ]
     },
     "metadata": {
      "needs_background": "light"
     },
     "output_type": "display_data"
    }
   ],
   "source": [
    "d1 = np.array([10, 8, 13, 9, 11, 14, 6, 4, 12, 7, 5])\n",
    "d2 = np.array([8.04, 6.95, 7.58, 8.81, 8.33, 9.96, 7.24, 4.26, 10.84, 4.82, 5.68])\n",
    "\n",
    "N = len(d1)\n",
    "\n",
    "para_r, para_t = stats.pearsonr(d1,d2)\n",
    "print(para_r, para_t)\n",
    "\n",
    "plt.scatter(d1,d2)\n",
    "plt.show()"
   ]
  },
  {
   "cell_type": "code",
   "execution_count": 42,
   "metadata": {},
   "outputs": [
    {
     "name": "stdout",
     "output_type": "stream",
     "text": [
      "0.03\n"
     ]
    }
   ],
   "source": [
    "np.random.seed(0)\n",
    "\n",
    "num_rands = 5000\n",
    "\n",
    "null_r = np.zeros(num_rands)\n",
    "\n",
    "tmp0 = np.zeros(N)\n",
    "tmp1 = np.zeros(N)\n",
    "\n",
    "for i in np.arange(num_rands):\n",
    "    for j in np.arange(N):\n",
    "        if np.random.rand() < .5:\n",
    "            tmp0[j] = d1[j]\n",
    "            tmp1[j] = d2[j]\n",
    "        else:\n",
    "            tmp0[j] = d2[j]\n",
    "            tmp1[j] = d1[j]\n",
    "            \n",
    "    null_r[i],_ = stats.pearsonr(tmp0,tmp1)\n",
    "    \n",
    "null_p = 2*(np.sum(null_r > para_r)/num_rands)\n",
    "print(null_p)"
   ]
  },
  {
   "cell_type": "markdown",
   "metadata": {},
   "source": [
    "## Bootstrapping"
   ]
  },
  {
   "cell_type": "code",
   "execution_count": 74,
   "metadata": {},
   "outputs": [
    {
     "name": "stdout",
     "output_type": "stream",
     "text": [
      "100.01512146515539\n",
      "9.999213260166576\n",
      "102.24370279571043\n",
      "6.294567406743315\n"
     ]
    }
   ],
   "source": [
    "np.random.seed(0)\n",
    "\n",
    "# assuming a population of 1000000 people\n",
    "N = 1000000\n",
    "\n",
    "pop_mean = 100\n",
    "pop_std = 10\n",
    "\n",
    "pop_data = np.random.randn(N) * pop_std + pop_mean\n",
    "\n",
    "\n",
    "# randomly select 10 samples from 1000000 people\n",
    "S_N = 10\n",
    "index = np.random.permutation(N)[0:S_N]\n",
    "samp_data = pop_data[index]\n",
    "\n",
    "print(np.mean(pop_data))\n",
    "print(np.std(pop_data))\n",
    "print(np.mean(samp_data))\n",
    "print(np.std(samp_data))"
   ]
  },
  {
   "cell_type": "code",
   "execution_count": 75,
   "metadata": {},
   "outputs": [],
   "source": [
    "# assuming we can only have 20 samples\n",
    "S_N = 20\n",
    "index = np.random.permutation(N)[0:S_N]\n",
    "samp_data = pop_data[index]\n",
    "\n",
    "# within these 20 samples, resampling with replacement\n",
    "# if the means of each iteration is stable then these samples are similar\n",
    "num_boots = 5000\n",
    "\n",
    "boot_mean = np.zeros(num_boots)\n",
    "\n",
    "for i in np.arange(num_boots):\n",
    "    boot_data = samp_data[np.random.randint(S_N, size=S_N)]\n",
    "    boot_mean[i] = np.mean(boot_data)\n",
    "\n",
    "# confidence interval\n",
    "CIs = np.percentile(boot_mean,[2.5,97.5])"
   ]
  },
  {
   "cell_type": "code",
   "execution_count": 76,
   "metadata": {},
   "outputs": [
    {
     "data": {
      "text/plain": [
       "array([ 0, 10, 16,  6, 12,  0,  7,  6, 17, 12,  9,  5,  3,  0, 19, 12, 10,\n",
       "        3,  5, 10])"
      ]
     },
     "execution_count": 76,
     "metadata": {},
     "output_type": "execute_result"
    }
   ],
   "source": [
    "np.random.randint(S_N, size=S_N)"
   ]
  },
  {
   "cell_type": "code",
   "execution_count": 78,
   "metadata": {},
   "outputs": [
    {
     "data": {
      "text/plain": [
       "<matplotlib.lines.Line2D at 0x25153572e08>"
      ]
     },
     "execution_count": 78,
     "metadata": {},
     "output_type": "execute_result"
    },
    {
     "data": {
      "image/png": "[encoded data removed]",
      "text/plain": [
       "<Figure size 432x288 with 1 Axes>"
      ]
     },
     "metadata": {
      "needs_background": "light"
     },
     "output_type": "display_data"
    }
   ],
   "source": [
    "plt.hist(boot_mean,alpha=0.5)\n",
    "plt.axvline(pop_mean,color ='k')\n",
    "plt.axvline(np.mean(samp_data),color = 'b')\n",
    "plt.axvline(CIs[0],color = 'r')\n",
    "plt.axvline(CIs[1],color = 'r')"
   ]
  },
  {
   "cell_type": "markdown",
   "metadata": {},
   "source": [
    "### This would be helpful if there are outliers in the data, then by sampling with replacement, we don't always include this outlier"
   ]
  },
  {
   "cell_type": "code",
   "execution_count": null,
   "metadata": {},
   "outputs": [],
   "source": []
  }
 ],
 "metadata": {
  "kernelspec": {
   "display_name": "Python 3",
   "language": "python",
   "name": "python3"
  },
  "language_info": {
   "codemirror_mode": {
    "name": "ipython",
    "version": 3
   },
   "file_extension": ".py",
   "mimetype": "text/x-python",
   "name": "python",
   "nbconvert_exporter": "python",
   "pygments_lexer": "ipython3",
   "version": "3.7.4"
  }
 },
 "nbformat": 4,
 "nbformat_minor": 4
}
