{
 "cells": [
  {
   "cell_type": "markdown",
   "metadata": {},
   "source": [
    "### 1) Make a list of numbers from 0 to 30 but only include every other number (counting by 2’s). Your list **should** include the number 30 (so: 0,2,4....30). Do not 'hard code' the list of numbers but instead use a function to generate the list. Then use slicing to print out the following (note: remember that start, stop, and step are the arguments in slicing):\n",
    "\n",
    "* a) Print out the first 4 numbers from the list.\n",
    "* b) Print out the last 4 numbers from the list.\n",
    "* c) Print out every other number, starting with the 3rd number and going to the end of the list\n",
    "* d) Print out the list backwards"
   ]
  },
  {
   "cell_type": "code",
   "execution_count": 10,
   "metadata": {},
   "outputs": [
    {
     "name": "stdout",
     "output_type": "stream",
     "text": [
      "[4, 8, 12, 16, 20, 24, 28]\n"
     ]
    }
   ],
   "source": [
    "# remember start, stop, step...\n",
    "lst = list(range(0,31,2))\n",
    "print(lst[2::2])"
   ]
  },
  {
   "cell_type": "raw",
   "metadata": {},
   "source": [
    "# correct output\n",
    "[0, 2, 4, 6, 8, 10, 12, 14, 16, 18, 20, 22, 24, 26, 28, 30]\n",
    "[0, 2, 4, 6]\n",
    "[24, 26, 28, 30]\n",
    "[4, 8, 12, 16, 20, 24, 28]\n",
    "[30, 28, 26, 24, 22, 20, 18, 16, 14, 12, 10, 8, 6, 4, 2, 0]"
   ]
  },
  {
   "cell_type": "markdown",
   "metadata": {},
   "source": [
    "### 2) Make a list of numbers 0,1,2,3,4. Assign that list to the variable “lst1”. Then make another variable “lst2” and assign lst2 to take on the values of lst1.\n",
    "\n",
    "* a) Square the 3rd value in lst1 (the number '2') and make sure that the value in the list is updated.\n",
    "* b) Subtract 4 from the 4th element of lst1 and make sure that the value in the list is updated.\n",
    "* c) Test to see if the value -1 is in lst1. Is the answer True or False?\n",
    "* d) Test to see if the value 5 is not in lst1. Is the answer True or False?\n",
    "* e) Test to see if the value of the 1st element is less than 0. If it is, then print 'hi', if the number is greater than 0 print 'bye', and if the number equals zero then print 'zero'\n",
    "* f) If -1 is in lst2 then start over and follow the directions, but this time set up lst2 so that it does not change when you modify lst1."
   ]
  },
  {
   "cell_type": "code",
   "execution_count": null,
   "metadata": {},
   "outputs": [],
   "source": []
  },
  {
   "cell_type": "raw",
   "metadata": {},
   "source": [
    "# correct output, and the last line should go to false after the last step\n",
    "[0, 2, 4, 6, 8, 10, 12, 14, 16, 18, 20, 22, 24, 26, 28, 30]\n",
    "[0, 1, 4, 3, 4]\n",
    "[0, 1, 4, -1, 4]\n",
    "True\n",
    "True\n",
    "zero\n",
    "True"
   ]
  },
  {
   "cell_type": "markdown",
   "metadata": {},
   "source": [
    "### 3) Linhui and Eena want to create and maintain a list of the kids in the neighbourhood. They also want to add the kids’ ages right after their respective names. Help Linhui and Eena with this.\n",
    "* a) Make separate lists, each containing the name of the kid as the first item and the age of the kid as the second item. Eg. kid1 = ['Sara', 12]. Make 4 such lists (and just make up a name and an age for each kid).\n",
    "* b) Linhui uses the concatenated list approach to make a master list called “concat_list” with the contents of all lists as elements of the master_list. Eg. ['Sara',\n",
    "12, 'Maya', 13.........]. Make this list for Linhui and print it. (Use lists created in part a)\n",
    "* c) Eena uses the “list in a list” approach to make the master list and calls it “list_in_list” and it looks like this : [['Sara', 12], ['Maya', 13], ........]. Make this lists-in-list for Eena and print it. (Use lists created in part a)\n",
    "* d) They revisit the lists in two years and they both must increment the age of all kids by two years now. Do this increment in both “concat_list” and “list_in_list” and print both.\n",
    "* e) They realize that one kid has left the neighbourhood. Delete one kid’s entry from both the lists and print updated lists). There has also been an addition of a new kid, Shijia (25 years old), to the neighbourhood. Add Shijia's details to both lists and print updated lists."
   ]
  },
  {
   "cell_type": "code",
   "execution_count": 8,
   "metadata": {},
   "outputs": [],
   "source": [
    "p1 = ['john', 43]; p2 = ['sunyoung', 37]; p3 = ['tim', 26]; p4=['maggie', 22]"
   ]
  },
  {
   "cell_type": "code",
   "execution_count": 69,
   "metadata": {},
   "outputs": [
    {
     "name": "stdout",
     "output_type": "stream",
     "text": [
      "['john', 47, 'sunyoung', 49, 'tim', 51, 'maggie', 53]\n",
      "[['john', 47], ['sunyoung', 49], ['tim', 51], ['maggie', 53]]\n",
      "['john', 49, 'sunyoung', 51, 'tim', 53, 'maggie', 55]\n"
     ]
    }
   ],
   "source": [
    "concat_lst = p1+p2+p3+p4\n",
    "print(concat_lst)\n",
    "\n",
    "list_in_list = [p1,p2,p3,p4]\n",
    "print(list_in_list)\n",
    "\n",
    "ind = 1\n",
    "for i in concat_lst[1::2]:\n",
    "    concat_lst[ind] = i+2\n",
    "    ind +=2\n",
    "print(concat_lst)"
   ]
  },
  {
   "cell_type": "code",
   "execution_count": 73,
   "metadata": {},
   "outputs": [
    {
     "data": {
      "text/plain": [
       "[['john', 53], ['sunyoung', 55], ['tim', 57], ['maggie', 59]]"
      ]
     },
     "execution_count": 73,
     "metadata": {},
     "output_type": "execute_result"
    }
   ],
   "source": [
    "ind = 0\n",
    "for i in list_in_list:\n",
    "    list_in_list[ind][1] = i[1]+2\n",
    "    ind +=1\n",
    "list_in_list\n",
    "\n",
    "# for count,age in enumerate(list_in_list):\n",
    "#     list_in_list[count][1] += 2\n",
    "# list_in_list"
   ]
  },
  {
   "cell_type": "code",
   "execution_count": 79,
   "metadata": {},
   "outputs": [
    {
     "name": "stdout",
     "output_type": "stream",
     "text": [
      "['john', 53, 'sunyoung', 55]\n"
     ]
    }
   ],
   "source": [
    "del concat_lst[0:2]\n",
    "print(concat_lst+p1+p2)"
   ]
  },
  {
   "cell_type": "raw",
   "metadata": {},
   "source": [
    "# correct output\n",
    "['john', 43, 'sunyoung', 37, 'tim', 26, 'maggie', 22]\n",
    "[['john', 43], ['sunyoung', 37], ['tim', 26], ['maggie', 22]]\n",
    "['john', 45, 'sunyoung', 39, 'tim', 28, 'maggie', 24]\n",
    "[['john', 45], ['sunyoung', 39], ['tim', 28], ['maggie', 24]]\n",
    "['sunyoung', 39, 'tim', 28, 'maggie', 24]\n",
    "[['sunyoung', 39], ['tim', 28], ['maggie', 24]]\n",
    "['sunyoung', 39, 'tim', 28, 'maggie', 24, 'Shijia', 25]\n",
    "[['sunyoung', 39], ['tim', 28], ['maggie', 24], ['Shijia', 25]]"
   ]
  },
  {
   "cell_type": "markdown",
   "metadata": {},
   "source": [
    "### 4) Imagine that you have a data set where the words are already stored in a list with each element being one word, but there is an inexplicable number of spaces at the start or end of each word. Before you can deal with the data you need to clean the spaces so your can determine the shortest word in the list. Then sort the list based on the length of the words such that the shortest word in first. \n",
    "\n",
    "**Note**: You solved this problem last week, but this week solve it using a for-loop. If you are like me, you may find this to be a more intuitive way to solve this problem. \n",
    "\n",
    "**Hint**: The sorted function has an optional argument key that you can pass a function to such that sorted uses that function to determine the order of sorting."
   ]
  },
  {
   "cell_type": "code",
   "execution_count": 117,
   "metadata": {},
   "outputs": [
    {
     "data": {
      "text/plain": [
       "['banana', 'peanut', 'xylophone', 'aardvark', 'foot', 'python']"
      ]
     },
     "execution_count": 117,
     "metadata": {},
     "output_type": "execute_result"
    }
   ],
   "source": [
    "words_lst = ['banana ', ' peanut  ', 'xylophone  ', 'aardvark  ', 'foot       ', 'python    ']\n",
    "for i in range(len(words_lst)):\n",
    "    words_lst[i] = words_lst[i].replace(\" \", \"\")\n",
    "words_lst"
   ]
  },
  {
   "cell_type": "code",
   "execution_count": null,
   "metadata": {},
   "outputs": [],
   "source": []
  },
  {
   "cell_type": "code",
   "execution_count": 97,
   "metadata": {},
   "outputs": [
    {
     "data": {
      "text/plain": [
       "['banana', 'peanut', 'xylophone', 'aardvark', 'foot', 'python']"
      ]
     },
     "execution_count": 97,
     "metadata": {},
     "output_type": "execute_result"
    }
   ],
   "source": [
    "words_lst = ['banana ', ' peanut  ', 'xylophone  ', 'aardvark  ', 'foot       ', 'python    ']\n",
    "[elem.replace(\" \", \"\") for elem in words_lst]"
   ]
  },
  {
   "cell_type": "code",
   "execution_count": null,
   "metadata": {},
   "outputs": [],
   "source": []
  },
  {
   "cell_type": "code",
   "execution_count": 118,
   "metadata": {},
   "outputs": [
    {
     "data": {
      "text/plain": [
       "['banana ',\n",
       " ' peanut  ',\n",
       " 'xylophone  ',\n",
       " 'aardvark  ',\n",
       " 'foot       ',\n",
       " 'python    ']"
      ]
     },
     "execution_count": 118,
     "metadata": {},
     "output_type": "execute_result"
    }
   ],
   "source": [
    "words_lst = ['banana ', ' peanut  ', 'xylophone  ', 'aardvark  ', 'foot       ', 'python    ']\n",
    "for elem in words_lst:\n",
    "    elem.replace(\" \", \"\")\n",
    "words_lst"
   ]
  },
  {
   "cell_type": "raw",
   "metadata": {},
   "source": [
    "['foot', 'banana', 'peanut', 'python', 'aardvark', 'xylophone']"
   ]
  },
  {
   "cell_type": "markdown",
   "metadata": {},
   "source": [
    "### 5) The pandemic is over and you are lucky enough to be a contestant on the next season of The Amazing Race. You have traversed the world over the course of the first 11 legs, succeeding in each leg. Now, as the final leg and 1,000,000 dollars is on the line, you need to be at your best and make quick time. You know the final leg will take you back to the US, as it always does, but where should you be heading?\n",
    "\n",
    "* a) You are in Sydney, Australia, where the last leg finished, but have not been told where in the US to fly to. Instead, you have been given the following clue which you must decode: *nohj iocef cmglil lhla*. It strikes you that they may have just scrambled the letters of each word. Fortunately, following the Amazing Data Analysis class you took last fall, you are a Python aficionado and are able to borrow a computer from the local library in Sydney. You think you can use Python to brute force enumerate all the permutations of each word rather than trying to come up with the words on your own. A quick Google search helped you find the *permute_str* function below on Stack Overflow. Use this function and a for loop to print all the permutations for each word. \n",
    "* b) Looking through the permutations, can you figure out what each word should be? \n",
    "* c) One of the words should give away where you should be flying to. Once you figure this out, you hurry to schedule the soonest flight there from Sydney. Where will you be heading?\n",
    "\n",
    "* ***bonus*** Make your program cooler and more human usable by reading this [post](https://readthedocs.org/projects/pyspellchecker/downloads/pdf/latest/) and then using the spell.known() method. You will first need to install pyspellchecker by opening a command window and typing: pip install pyspellchecker"
   ]
  },
  {
   "cell_type": "code",
   "execution_count": 100,
   "metadata": {},
   "outputs": [],
   "source": [
    "# run this cell to import the permutations function and to define the permute_str function\n",
    "from itertools import permutations\n",
    "\n",
    "def permute_str(s):\n",
    "    return [''.join(p) for p in permutations(s)]"
   ]
  },
  {
   "cell_type": "code",
   "execution_count": 103,
   "metadata": {},
   "outputs": [
    {
     "data": {
      "text/plain": [
       "['nohj',\n",
       " 'nojh',\n",
       " 'nhoj',\n",
       " 'nhjo',\n",
       " 'njoh',\n",
       " 'njho',\n",
       " 'onhj',\n",
       " 'onjh',\n",
       " 'ohnj',\n",
       " 'ohjn',\n",
       " 'ojnh',\n",
       " 'ojhn',\n",
       " 'hnoj',\n",
       " 'hnjo',\n",
       " 'honj',\n",
       " 'hojn',\n",
       " 'hjno',\n",
       " 'hjon',\n",
       " 'jnoh',\n",
       " 'jnho',\n",
       " 'jonh',\n",
       " 'john',\n",
       " 'jhno',\n",
       " 'jhon']"
      ]
     },
     "execution_count": 103,
     "metadata": {},
     "output_type": "execute_result"
    }
   ],
   "source": [
    "permute_str('nohj')"
   ]
  },
  {
   "cell_type": "code",
   "execution_count": 113,
   "metadata": {},
   "outputs": [
    {
     "data": {
      "text/plain": [
       "['nohj', 'ioceff', 'cmglil', 'lhla']"
      ]
     },
     "execution_count": 113,
     "metadata": {},
     "output_type": "execute_result"
    }
   ],
   "source": [
    "words = 'nohj ioceff cmglil lhla'\n",
    "words_seprated = words.split(' ')\n",
    "words_seprated"
   ]
  },
  {
   "cell_type": "code",
   "execution_count": null,
   "metadata": {},
   "outputs": [],
   "source": [
    "pip install pyspellchecker"
   ]
  },
  {
   "cell_type": "code",
   "execution_count": 114,
   "metadata": {},
   "outputs": [],
   "source": [
    "from spellchecker import SpellChecker\n",
    "spell = SpellChecker()"
   ]
  },
  {
   "cell_type": "code",
   "execution_count": 116,
   "metadata": {},
   "outputs": [
    {
     "name": "stdout",
     "output_type": "stream",
     "text": [
      "noh\n",
      "{'noh', 'noho'}\n",
      "mcgill\n",
      "{'mcgill'}\n",
      "lila\n",
      "{'lala', 'hla', 'lila', 'lla', 'lela', 'lyla', 'lula', 'lola'}\n",
      "ioceff\n",
      "{'ioceff'}\n"
     ]
    }
   ],
   "source": [
    "misspelled = spell.unknown(words_seprated)\n",
    "for word in misspelled:\n",
    "# Get the one `most likely` answer\n",
    "    print(spell.correction(word))\n",
    "    print(spell.candidates(word))"
   ]
  },
  {
   "cell_type": "code",
   "execution_count": null,
   "metadata": {},
   "outputs": [],
   "source": []
  }
 ],
 "metadata": {
  "kernelspec": {
   "display_name": "Python 3",
   "language": "python",
   "name": "python3"
  },
  "language_info": {
   "codemirror_mode": {
    "name": "ipython",
    "version": 3
   },
   "file_extension": ".py",
   "mimetype": "text/x-python",
   "name": "python",
   "nbconvert_exporter": "python",
   "pygments_lexer": "ipython3",
   "version": "3.8.5"
  }
 },
 "nbformat": 4,
 "nbformat_minor": 2
}
